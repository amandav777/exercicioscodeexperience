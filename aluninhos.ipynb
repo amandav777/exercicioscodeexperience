{
  "cells": [
    {
      "cell_type": "markdown",
      "metadata": {
        "colab_type": "text",
        "id": "view-in-github"
      },
      "source": [
        "<a href=\"https://colab.research.google.com/github/amandav777/exercicioscodeexperience/blob/main/aluninhos.ipynb\" target=\"_parent\"><img src=\"https://colab.research.google.com/assets/colab-badge.svg\" alt=\"Open In Colab\"/></a>"
      ]
    },
    {
      "cell_type": "code",
      "execution_count": null,
      "metadata": {},
      "outputs": [],
      "source": [
        "#PRINT"
      ]
    },
    {
      "cell_type": "markdown",
      "metadata": {
        "id": "SNM_mFDqvI8k"
      },
      "source": [
        "Escreva \"hello, world\" para quebrar a maldição!"
      ]
    },
    {
      "cell_type": "markdown",
      "metadata": {
        "id": "P9v5PnOFcSEx"
      },
      "source": [
        "Escreva seu nome "
      ]
    },
    {
      "cell_type": "markdown",
      "metadata": {
        "id": "BChTHxCgcUfY"
      },
      "source": [
        "Escreva sua idade em anos"
      ]
    },
    {
      "cell_type": "markdown",
      "metadata": {
        "id": "i2xo581ScW2g"
      },
      "source": [
        "Escreva sua altura"
      ]
    },
    {
      "cell_type": "markdown",
      "metadata": {
        "id": "SEJgaHYD0GoU"
      },
      "source": [
        "----------------------------------------------------------------------------------------------------"
      ]
    },
    {
      "cell_type": "code",
      "execution_count": null,
      "metadata": {},
      "outputs": [],
      "source": [
        "#INPUT"
      ]
    },
    {
      "cell_type": "markdown",
      "metadata": {
        "id": "Gtu1NHpl0Mxz"
      },
      "source": [
        "Crie um programa para inserir seu nome no computador"
      ]
    },
    {
      "cell_type": "markdown",
      "metadata": {
        "id": "efhphPnL0VMj"
      },
      "source": [
        "Crie um programa que peça sua altura"
      ]
    },
    {
      "cell_type": "markdown",
      "metadata": {
        "id": "-lc8Wi6V0btj"
      },
      "source": [
        "Crie um programa que peça sua idade"
      ]
    },
    {
      "cell_type": "markdown",
      "metadata": {
        "id": "erWMUgmR0xPz"
      },
      "source": [
        "Crie um programa que pergunte a temperatura do ar condicionado"
      ]
    },
    {
      "cell_type": "markdown",
      "metadata": {
        "id": "PJ2CoPlG4R0K"
      },
      "source": [
        "----------------------------------------------------------------------------------------------------"
      ]
    },
    {
      "cell_type": "code",
      "execution_count": null,
      "metadata": {},
      "outputs": [],
      "source": [
        "#PRINT E INPUT"
      ]
    },
    {
      "cell_type": "markdown",
      "metadata": {
        "id": "7_kjO0Hi4VM_"
      },
      "source": [
        "Crie um programa que peça seu nome e imprima uma mensagem de saudação.\n",
        "Exemplo: \n",
        "Qual seu nome?\n",
        "Olá, fulano! Tudo bem?"
      ]
    },
    {
      "cell_type": "markdown",
      "metadata": {
        "id": "LcVTEBFC6Euh"
      },
      "source": [
        "Crie sua primeira calculadora de somar"
      ]
    },
    {
      "cell_type": "markdown",
      "metadata": {
        "id": "_QWmWx0n9X6X"
      },
      "source": [
        "Crie sua primeira calculadora de multiplicação"
      ]
    },
    {
      "cell_type": "markdown",
      "metadata": {
        "id": "QOF3q6MU4SWr"
      },
      "source": [
        "Crie uma calculadora que pede um número e imprime seu dobro"
      ]
    },
    {
      "cell_type": "markdown",
      "metadata": {
        "id": "nGKm6Yepqsj_"
      },
      "source": [
        "Crie um programa que faça a média de duas notas e de o resultado final"
      ]
    },
    {
      "cell_type": "markdown",
      "metadata": {
        "id": "lblmpcPH1BSQ"
      },
      "source": [
        "Crie um programa que transforme minutos em segundos \n",
        "(Lembre que 1 minuto = 60 segundos)"
      ]
    },
    {
      "cell_type": "markdown",
      "metadata": {
        "id": "qlPdikMI1TSV"
      },
      "source": [
        "Faça um programa que converta metros para centímetros.\n",
        "\n"
      ]
    },
    {
      "cell_type": "markdown",
      "metadata": {
        "id": "pTUsmQL91Wr9"
      },
      "source": [
        "Faça um programa que pergunte quanto você ganha por hora e o número de horas trabalhadas no mês. Calcule e mostre o total do seu salário no referido mês."
      ]
    },
    {
      "cell_type": "markdown",
      "metadata": {
        "id": "HDcAmQoO6W_X"
      },
      "source": [
        "Faça um Programa que calcule a área de um quadrado, em seguida mostre o dobro desta área para o usuário.\n",
        "\n"
      ]
    },
    {
      "cell_type": "markdown",
      "metadata": {
        "id": "bhy-X2zx6XoY"
      },
      "source": [
        "Faça um Programa que peça a temperatura em graus Farenheit, transforme e mostre a temperatura em graus Celsius. C = (5 * (F-32) / 9)."
      ]
    },
    {
      "cell_type": "markdown",
      "metadata": {
        "id": "EVqYGtiXMCVj"
      },
      "source": [
        "-------------------------------------------------------------------------------------------------------------------------"
      ]
    },
    {
      "cell_type": "code",
      "execution_count": null,
      "metadata": {},
      "outputs": [],
      "source": [
        "#IF"
      ]
    },
    {
      "cell_type": "markdown",
      "metadata": {
        "id": "XH97xtuWMP70"
      },
      "source": [
        "Verifique se um número é positivo ou negativo"
      ]
    },
    {
      "cell_type": "markdown",
      "metadata": {
        "id": "mNJiE0G-MepM"
      },
      "source": [
        "Verifique se uma pessoa pode ter CNH ou não"
      ]
    },
    {
      "cell_type": "markdown",
      "metadata": {
        "id": "2Gl6I0AxMkGy"
      },
      "source": [
        "Verifique se um aluno foi aprovado ou reprovado com base em sua nota"
      ]
    },
    {
      "cell_type": "markdown",
      "metadata": {
        "id": "rz6LzLb_Wogw"
      },
      "source": [
        "Crie um programa que decida se uma letra é vogal ou consoante"
      ]
    },
    {
      "cell_type": "markdown",
      "metadata": {
        "id": "C_D3-UeYMoOR"
      },
      "source": [
        "Verifique se um número é par ou ímpar"
      ]
    }
  ],
  "metadata": {
    "colab": {
      "authorship_tag": "ABX9TyMO1eP9sQxKR57c0Eq0Jk5x",
      "include_colab_link": true,
      "provenance": []
    },
    "kernelspec": {
      "display_name": "Python 3",
      "name": "python3"
    },
    "language_info": {
      "name": "python"
    }
  },
  "nbformat": 4,
  "nbformat_minor": 0
}
